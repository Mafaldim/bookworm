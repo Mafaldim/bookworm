{
 "cells": [
  {
   "cell_type": "markdown",
   "metadata": {},
   "source": [
    "[< 03 - Visualising and Analysing Networks](03%20-%20Visualising%20and%20Analysing%20Networks.ipynb) | [Home](https://github.com/harrisonpim/bookworm) | [05 - Cliques and Communities >](05%20-%20Cliques%20and%20Communities.ipynb)  \n",
    "\n",
    "# Time and Chronology"
   ]
  },
  {
   "cell_type": "code",
   "execution_count": null,
   "metadata": {},
   "outputs": [],
   "source": [
    "from bookworm import *\n",
    "\n",
    "%matplotlib inline\n",
    "import matplotlib.pyplot as plt\n",
    "plt.rcParams['figure.figsize'] = (15,12)\n",
    "\n",
    "import pandas as pd\n",
    "import numpy as np\n",
    "import networkx as nx"
   ]
  },
  {
   "cell_type": "code",
   "execution_count": null,
   "metadata": {},
   "outputs": [],
   "source": [
    "graph_dict = chronological_network('data/raw/hp_philosophers_stone.txt', \n",
    "                                   n_sections=4,\n",
    "                                   cumulative=False)\n",
    "\n",
    "fig = plt.figure()\n",
    "for i in range(1, 5):\n",
    "    fig.add_subplot(2, 2, i)\n",
    "    nx.draw(graph_dict[i-1], node_size=70)"
   ]
  },
  {
   "cell_type": "code",
   "execution_count": null,
   "metadata": {},
   "outputs": [],
   "source": [
    "graph_dict = chronological_network('data/raw/hp_philosophers_stone.txt', \n",
    "                                   n_sections=4,\n",
    "                                   cumulative=True)\n",
    "\n",
    "fig = plt.figure()\n",
    "for i in range(1, 5):\n",
    "    fig.add_subplot(2, 2, i)\n",
    "    nx.draw(graph_dict[i-1], node_size=70)"
   ]
  },
  {
   "cell_type": "code",
   "execution_count": null,
   "metadata": {},
   "outputs": [],
   "source": [
    "graph_dict = chronological_network('data/raw/hp_philosophers_stone.txt', \n",
    "                                   n_sections=12,\n",
    "                                   cumulative=True)\n",
    "\n",
    "fig = plt.figure()\n",
    "for i in range(1, 13):\n",
    "    fig.add_subplot(3, 4, i)\n",
    "    nx.draw(graph_dict[i-1], node_size=70)"
   ]
  },
  {
   "cell_type": "markdown",
   "metadata": {},
   "source": [
    "more to read and develop [here](https://en.wikipedia.org/wiki/Time-varying_network) and [here](https://en.wikipedia.org/wiki/Complex_network)\n",
    "\n",
    "\n",
    "\n",
    "In the next notebook we'll come back to the idea of the cliques and communities that exist within social networks, and how they can be enumerated.  \n",
    "[< 03 - Visualising and Analysing Networks](03%20-%20Visualising%20and%20Analysing%20Networks.ipynb) | [Home](https://github.com/harrisonpim/bookworm) | [05 - Cliques and Communities >](05%20-%20Cliques%20and%20Communities.ipynb)  \n",
    "\n"
   ]
  },
  {
   "cell_type": "code",
   "execution_count": null,
   "metadata": {},
   "outputs": [],
   "source": []
  }
 ],
 "metadata": {
  "kernelspec": {
   "display_name": "Python [conda root]",
   "language": "python",
   "name": "conda-root-py"
  },
  "language_info": {
   "codemirror_mode": {
    "name": "ipython",
    "version": 3
   },
   "file_extension": ".py",
   "mimetype": "text/x-python",
   "name": "python",
   "nbconvert_exporter": "python",
   "pygments_lexer": "ipython3",
   "version": "3.5.3"
  }
 },
 "nbformat": 4,
 "nbformat_minor": 2
}
