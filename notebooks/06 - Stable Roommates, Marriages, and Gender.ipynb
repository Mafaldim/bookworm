{
 "cells": [
  {
   "cell_type": "code",
   "execution_count": null,
   "metadata": {},
   "outputs": [],
   "source": [
    "from bookworm import *\n",
    "\n",
    "%matplotlib inline\n",
    "import matplotlib.pyplot as plt\n",
    "plt.rcParams['figure.figsize'] = (12,9)\n",
    "\n",
    "import pandas as pd\n",
    "import numpy as np\n",
    "import networkx as nx\n",
    "import random"
   ]
  },
  {
   "cell_type": "markdown",
   "metadata": {},
   "source": [
    "# Stable Marriages\n",
    "There's a lovely piece of classic game theory known as the the 'Stable Marriage Problem' which is famously solved by the Gale-Shapley Algorithm.  \n",
    "The story given to provide intuition often changes from telling to telling, but here I'll use a story of a town's villagers. For the sake of mathematical simplicity we're going to have to make some reductive assumptions about the townspeople's genders and sexulaities - there are two genders in this town, the population is evenly split between the two genders, and everyone is heterosexual. The townspeople need to be married off to one another for the sake of good and wholesome society, and each person has an ordered list of spousal preferences. Men propose to women, and women can accept or reject any of those proposals at any time until overall stability is achieved. For example:\n",
    "\n",
    "| Proposor |   |   |   |   |\n",
    "|----------|---|---|---|---|\n",
    "| Man 1    | 2 | 1 | 3 | 4 |\n",
    "| Man 2    | 4 | 1 | 2 | 3 |\n",
    "| Man 3    | 1 | 3 | 2 | 4 |\n",
    "| Man 4    | 2 | 3 | 1 | 4 |\n",
    "\n",
    "| Acceptor |   |   |   |   |\n",
    "|----------|---|---|---|---|\n",
    "| Woman 1  | 1 | 3 | 2 | 4 |\n",
    "| Woman 2  | 3 | 4 | 1 | 2 |\n",
    "| Woman 3  | 4 | 2 | 3 | 1 |\n",
    "| Woman 4  | 3 | 2 | 1 | 4 |\n",
    "\n",
    "_Man 1_ would ideally like to marry _Woman 2_, followed by _Woman 1_, _Woman 3_ and finally _Woman 4_, etc.  \n",
    "The problem, now, is to find a set of pairings between townspeople which leaves the population maximally satisfied. Note that we're maximising satisfaction for the _whole population_ here, not individuals - Some people will inevitably miss out on a marriage with their ideal partner because they've already chosen to marry somebody else, or because their preferences are misaligned. The solution we want to approach here is one of _equilibrium_ or _stability_ - ie no person will deviate from their marriage becuase, due to the stability of the other couples around them, their interests are maximised by remaining in the marriage. There are no two people of opposite gender who would both rather have each other than their current partners.\n",
    "\n",
    "### The Gale-Shapley Algorithm\n",
    "The solution proposed by Gale and Shapley in 1962 says that we'll need to take an iterative approach to arriving at that maximally satisfied set of pairings. First, each man proposes to his ideal partner - some women might get several proposals at this stage, and some might receive none (see the double instance of _Woman 2_ in column 1 of the Proposors' table above). The women then pick their first choice from their set of proposals, and a provisional engagement is established between those pairs. The non-engaged men then propose to their next preference (regardless of whether or not she is already engaged). If the woman prefers the idea of marriage with this man to her current state, she accepts. In some cases this leads to an engaged man to be jilted in favour of another man. This step is repeated until all men and women have a partner.  \n",
    "Gale-Shapley is proven to maximise satisfaction within the group, and thereby leave everyone with a marriage from which they will not deviate.\n",
    "\n",
    "### Implementing Gale-Shapley in Python\n",
    "We can write a quick, ugly implementation of the algorithm described above "
   ]
  },
  {
   "cell_type": "code",
   "execution_count": null,
   "metadata": {},
   "outputs": [],
   "source": [
    "def gale_shapley(proposors, acceptors):\n",
    "    '''\n",
    "    Returns stable marriage pairings for a given set of input \n",
    "    candidates and their lists of spousal preferences\n",
    "\n",
    "    Parameters\n",
    "    ----------\n",
    "    proposors : dict (required)\n",
    "        the set of men and their list of spousal preferences\n",
    "    acceptors : dict (required)\n",
    "        the set of women and their list of spousal preferences\n",
    "\n",
    "    Returns\n",
    "    -------\n",
    "    marriages : dict\n",
    "        the list of stable marriage pairings\n",
    "    '''\n",
    "    is_man_available = {man: True for man in proposors}\n",
    "    is_woman_available = {woman: True for woman in acceptors}\n",
    "    \n",
    "    proposals_tried = {man: [] for man in proposors}\n",
    "    engagements = {person: None for person in list(proposors) + list(acceptors)}\n",
    "    \n",
    "    while any(is_man_available[man] is True for man in proposors):\n",
    "        available_men = [man for man in list(proposors) if is_man_available[man]]\n",
    "        \n",
    "        for man in available_men:\n",
    "            untried_proposals = [w for w in proposors[man] if w not in proposals_tried[man]]\n",
    "\n",
    "            preferred_woman = untried_proposals[0]\n",
    "            \n",
    "            if is_woman_available[preferred_woman]:\n",
    "                engagements[man] = preferred_woman\n",
    "                \n",
    "                is_man_available[man] = False\n",
    "                is_woman_available[preferred_woman] = False\n",
    "                \n",
    "                engagements[man] = preferred_woman\n",
    "                engagements[preferred_woman] = man\n",
    "            \n",
    "            elif engagements[preferred_woman] is not None:\n",
    "                current_fiance = engagements[preferred_woman]\n",
    "                \n",
    "                current_fiance_index = acceptors[preferred_woman].index(current_fiance)\n",
    "                new_proposor_index = acceptors[preferred_woman].index(man)\n",
    "                \n",
    "                if new_proposor_index < current_fiance_index:\n",
    "                    engagements[current_fiance] = None\n",
    "                    is_man_available[current_fiance] = True\n",
    "\n",
    "                    engagements[preferred_woman] = man\n",
    "\n",
    "                    is_man_available[man] = False\n",
    "                    engagements[man] = preferred_woman\n",
    "                    \n",
    "                else:\n",
    "                    is_man_available[man] = True\n",
    "            \n",
    "            proposals_tried[man].append(preferred_woman)\n",
    "\n",
    "    return engagements"
   ]
  },
  {
   "cell_type": "markdown",
   "metadata": {},
   "source": [
    "Lets see what happens when we apply the algorithm to our example village above"
   ]
  },
  {
   "cell_type": "code",
   "execution_count": null,
   "metadata": {},
   "outputs": [],
   "source": [
    "proposors = {'man_1': ['woman_2', 'woman_1', 'woman_3', 'woman_4'],\n",
    "             'man_2': ['woman_4', 'woman_1', 'woman_2', 'woman_3'],\n",
    "             'man_3': ['woman_1', 'woman_3', 'woman_2', 'woman_4'],\n",
    "             'man_4': ['woman_2', 'woman_3', 'woman_1', 'woman_4']}\n",
    "\n",
    "acceptors = {'woman_1': ['man_1', 'man_3', 'man_2', 'man_4'],\n",
    "             'woman_2': ['man_3', 'man_4', 'man_1', 'man_2'],\n",
    "             'woman_3': ['man_4', 'man_2', 'man_3', 'man_1'],\n",
    "             'woman_4': ['man_3', 'man_2', 'man_1', 'man_4']}"
   ]
  },
  {
   "cell_type": "code",
   "execution_count": null,
   "metadata": {},
   "outputs": [],
   "source": [
    "gale_shapley(proposors, acceptors)"
   ]
  },
  {
   "cell_type": "markdown",
   "metadata": {},
   "source": [
    "Despite looking quite long and convoluted function, this thing is wicked fast. It's basically just a couple of `if`s stretched out into a very tall function"
   ]
  },
  {
   "cell_type": "code",
   "execution_count": null,
   "metadata": {},
   "outputs": [],
   "source": [
    "%%timeit\n",
    "gale_shapley(proposors, acceptors)"
   ]
  },
  {
   "cell_type": "markdown",
   "metadata": {},
   "source": [
    "we can add a new woman to the mix and see what happens"
   ]
  },
  {
   "cell_type": "code",
   "execution_count": null,
   "metadata": {},
   "outputs": [],
   "source": [
    "proposors = {'man_1': ['woman_5', 'woman_2', 'woman_1', 'woman_3', 'woman_4'],\n",
    "             'man_2': ['woman_4', 'woman_1', 'woman_5', 'woman_2', 'woman_3'],\n",
    "             'man_3': ['woman_1', 'woman_5', 'woman_3', 'woman_2', 'woman_4'],\n",
    "             'man_4': ['woman_2', 'woman_3', 'woman_1', 'woman_4', 'woman_5']}\n",
    "\n",
    "acceptors = {'woman_1': ['man_1', 'man_3', 'man_2', 'man_4'],\n",
    "             'woman_2': ['man_3', 'man_4', 'man_1', 'man_2'],\n",
    "             'woman_3': ['man_4', 'man_2', 'man_3', 'man_1'],\n",
    "             'woman_4': ['man_3', 'man_2', 'man_1', 'man_4'],\n",
    "             'woman_5': ['man_3', 'man_2', 'man_1', 'man_4']}\n",
    "\n",
    "gale_shapley(proposors, acceptors)"
   ]
  },
  {
   "cell_type": "markdown",
   "metadata": {},
   "source": [
    "and switch the genders of the proposors / acceptors"
   ]
  },
  {
   "cell_type": "code",
   "execution_count": null,
   "metadata": {},
   "outputs": [],
   "source": [
    "acceptors = {'man_1': ['woman_5', 'woman_2', 'woman_1', 'woman_3', 'woman_4'],\n",
    "             'man_2': ['woman_4', 'woman_1', 'woman_5', 'woman_2', 'woman_3'],\n",
    "             'man_3': ['woman_1', 'woman_5', 'woman_3', 'woman_2', 'woman_4'],\n",
    "             'man_4': ['woman_2', 'woman_3', 'woman_1', 'woman_4', 'woman_5']}\n",
    "\n",
    "proposors = {'woman_1': ['man_1', 'man_3', 'man_2', 'man_4'],\n",
    "             'woman_2': ['man_3', 'man_4', 'man_1', 'man_2'],\n",
    "             'woman_3': ['man_4', 'man_2', 'man_3', 'man_1'],\n",
    "             'woman_4': ['man_3', 'man_2', 'man_1', 'man_4'],\n",
    "             'woman_5': ['man_3', 'man_2', 'man_1', 'man_4']}\n",
    "\n",
    "gale_shapley(proposors, acceptors)"
   ]
  },
  {
   "cell_type": "markdown",
   "metadata": {},
   "source": [
    "We get an error, as there aren't enough acceptors to propose to and the algorithm relies on all the proposors being matched at the end of the process. It doesn't really matter if an acceptor is left behind, but the proposors must all be married."
   ]
  },
  {
   "cell_type": "markdown",
   "metadata": {},
   "source": [
    "# Stable Marriages in Novels\n",
    "I thought it might be fun to invoke Gale-Shapley on our bookworm networks. We have a list of characters with some kind of preference metric enumerated already - the only thing we're missing is the gender of each character. A problem in modern English literature is that character networks are often vastly asymmetric regarding gender.  \n",
    "We can ascribe gender randomly and use the algorithm outlined above:\n",
    "\n",
    "visualised, the random splitting looks something like this"
   ]
  },
  {
   "cell_type": "code",
   "execution_count": null,
   "metadata": {},
   "outputs": [],
   "source": [
    "book = bookworm('data/raw/hp_philosophers_stone.txt', threshold=-1)"
   ]
  },
  {
   "cell_type": "code",
   "execution_count": null,
   "metadata": {},
   "outputs": [],
   "source": [
    "G = nx.from_pandas_dataframe(book[book['value'] > 2], \n",
    "                             source='source', \n",
    "                             target='target')\n",
    "\n",
    "genders = {character: random.choice(['#69B4FF', '#FF69B4']) \n",
    "           for character in G.nodes()}\n",
    "\n",
    "nx.draw(G,\n",
    "        cmap=plt.get_cmap(\"RdYlBu\"),\n",
    "        node_color=list(genders.values()),\n",
    "        with_labels=True)"
   ]
  },
  {
   "cell_type": "markdown",
   "metadata": {},
   "source": [
    "However, we need to include all nodes and ignore colour, so we'll use the following code"
   ]
  },
  {
   "cell_type": "code",
   "execution_count": null,
   "metadata": {},
   "outputs": [],
   "source": [
    "G = nx.from_pandas_dataframe(book,\n",
    "                             source='source',\n",
    "                             target='target')\n",
    "\n",
    "genders = {character: random.choice(['M', 'F']) for character in G.nodes()}"
   ]
  },
  {
   "cell_type": "markdown",
   "metadata": {},
   "source": [
    "we want to build dataframes of the men's and women's preferences"
   ]
  },
  {
   "cell_type": "code",
   "execution_count": null,
   "metadata": {},
   "outputs": [],
   "source": [
    "is_male = lambda x: True if genders[x] == 'M' else False\n",
    "\n",
    "men = book[(book['source'].apply(is_male)) & (~book['target'].apply(is_male))]\n",
    "women = book[(~book['source'].apply(is_male)) & (book['target'].apply(is_male))]\n",
    "\n",
    "male_preferences = {character: list(men\n",
    "                                    [men['source'] == character]\n",
    "                                    .set_index('target')\n",
    "                                    ['value']\n",
    "                                    .sort_values(ascending=False)\n",
    "                                    .index.values)\n",
    "                    for character in genders if genders[character] == 'M'}\n",
    "\n",
    "female_preferences = {character: list(women\n",
    "                                      [women['source'] == character]\n",
    "                                      .set_index('target')\n",
    "                                      ['value']\n",
    "                                      .sort_values(ascending=False)\n",
    "                                      .index.values)\n",
    "                      for character in genders if genders[character] == 'F'}"
   ]
  },
  {
   "cell_type": "code",
   "execution_count": null,
   "metadata": {},
   "outputs": [],
   "source": [
    "pd.Series(genders).value_counts()"
   ]
  },
  {
   "cell_type": "markdown",
   "metadata": {},
   "source": [
    "we have more men than women this time around, so we'll have to have the women proposing to men"
   ]
  },
  {
   "cell_type": "code",
   "execution_count": null,
   "metadata": {},
   "outputs": [],
   "source": [
    "marriages = gale_shapley(female_preferences, male_preferences)"
   ]
  },
  {
   "cell_type": "markdown",
   "metadata": {},
   "source": [
    "Lets see who Harry's has been paired up with..."
   ]
  },
  {
   "cell_type": "code",
   "execution_count": null,
   "metadata": {},
   "outputs": [],
   "source": [
    "marriages[\"('Harry ',)\"]"
   ]
  },
  {
   "cell_type": "code",
   "execution_count": null,
   "metadata": {},
   "outputs": [],
   "source": [
    "marriages[\"('Hagrid \\',)\"]"
   ]
  },
  {
   "cell_type": "markdown",
   "metadata": {},
   "source": [
    "Again, we can wrap this up more neatly to simplify the process of using gale-shapley with any graph"
   ]
  },
  {
   "cell_type": "code",
   "execution_count": null,
   "metadata": {},
   "outputs": [],
   "source": [
    "def get_gendered_preferences(interaction_df):\n",
    "    '''\n",
    "    set up for the stable marriages algorithm. splits a character graph \n",
    "    randomly into genders and determines an ordered list of preferences for \n",
    "    them.\n",
    "    \n",
    "    Parameters\n",
    "    ----------\n",
    "    inderaction_df : pd.DataFrame (required)\n",
    "        the dataframe of interactions upon which we want to base our stable \n",
    "        marriages\n",
    "        source = character one\n",
    "        target = character two\n",
    "        value = strength of interaction between character one and character two\n",
    "    \n",
    "    Returns\n",
    "    -------\n",
    "    proposors : dict\n",
    "        keys = all proposing characters\n",
    "        values = sorted list of preferences for the character in question\n",
    "    acceptors : dict\n",
    "        keys = all accepting characters\n",
    "        values = sorted list of preferences for the character in question\n",
    "    '''\n",
    "    G = nx.from_pandas_dataframe(interaction_df,\n",
    "                                 source='source',\n",
    "                                 target='target')\n",
    "\n",
    "    genders = {character: random.choice(['M', 'F']) for character in G.nodes()}\n",
    "    n_men = pd.Series(genders).value_counts()['M']\n",
    "    n_women = pd.Series(genders).value_counts()['F']\n",
    "    \n",
    "    is_male = lambda x: True if genders[x] == 'M' else False\n",
    "\n",
    "    men = interaction_df[(interaction_df['source'].apply(is_male)) & \n",
    "                         (~interaction_df['target'].apply(is_male))]\n",
    "    \n",
    "    women = interaction_df[(~interaction_df['source'].apply(is_male)) & \n",
    "                           (interaction_df['target'].apply(is_male))]\n",
    "    \n",
    "    male_preferences = {character: list(men[men['source'] == character]\n",
    "                                        .set_index('target')\n",
    "                                        ['value']\n",
    "                                        .sort_values(ascending=False)\n",
    "                                        .index.values)\n",
    "                        for character in genders if genders[character] == 'M'}\n",
    "    \n",
    "    female_preferences = {character: list(women[women['source'] == character]\n",
    "                                          .set_index('target')\n",
    "                                          ['value']\n",
    "                                          .sort_values(ascending=False)\n",
    "                                          .index.values)\n",
    "                          for character in genders if genders[character] == 'F'}\n",
    "    \n",
    "    if n_men > n_women:\n",
    "        proposors, acceptors = female_preferences, male_preferences\n",
    "    else:\n",
    "        proposors, acceptors = male_preferences, female_preferences\n",
    "    return proposors, acceptors"
   ]
  },
  {
   "cell_type": "code",
   "execution_count": null,
   "metadata": {},
   "outputs": [],
   "source": [
    "proposors, acceptors = get_gendered_preferences(book)\n",
    "\n",
    "marriages = gale_shapley(proposors, acceptors)\n",
    "\n",
    "marriages[\"('Harry ',)\"]"
   ]
  },
  {
   "cell_type": "markdown",
   "metadata": {},
   "source": [
    "The Stable Marriages problem requires a bipartite graph, which is something we don't have naturally here - our network is genderless at the beginning and it has to be awkwardly imposed.  \n",
    "We can adapt our problem to ignore gender. The genderless version of the problem is the lesser known _Stable Roommates_ problem, solved by Irving in 1985.\n",
    "\n",
    "## Stable Roommates"
   ]
  },
  {
   "cell_type": "code",
   "execution_count": null,
   "metadata": {},
   "outputs": [],
   "source": [
    "def irving(population):\n",
    "    roommates = {p: None for p in population}\n",
    "    return roommates"
   ]
  }
 ],
 "metadata": {
  "kernelspec": {
   "display_name": "Python [conda root]",
   "language": "python",
   "name": "conda-root-py"
  },
  "language_info": {
   "codemirror_mode": {
    "name": "ipython",
    "version": 3
   },
   "file_extension": ".py",
   "mimetype": "text/x-python",
   "name": "python",
   "nbconvert_exporter": "python",
   "pygments_lexer": "ipython3",
   "version": "3.5.3"
  }
 },
 "nbformat": 4,
 "nbformat_minor": 2
}
