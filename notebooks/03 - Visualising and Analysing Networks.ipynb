{
 "cells": [
  {
   "cell_type": "markdown",
   "metadata": {},
   "source": [
    "[< 02 - Character Building](02%20-%20Character%20Building.ipynb) | [Home](https://github.com/harrisonpim/bookworm) | [04 - Time and Chronology >](04%20-%20Time%20and%20Chronology.ipynb)  \n",
    "\n",
    "# Visualising and Analysing Networks\n",
    "By now you should have a decent understanding of how bookworm assembles a list of character relationships and assesses their strength.  \n",
    "The real point of this project, though, is to give the user a tactile, intuitive view of the network of characters and how they interact. This notebook should cover the methods I've used to achieve that.\n",
    "\n",
    "Let's start by importing all the usual stuff and loading in the Harry Potter network:"
   ]
  },
  {
   "cell_type": "code",
   "execution_count": null,
   "metadata": {},
   "outputs": [],
   "source": [
    "from bookworm import *"
   ]
  },
  {
   "cell_type": "code",
   "execution_count": null,
   "metadata": {},
   "outputs": [],
   "source": [
    "%matplotlib inline\n",
    "import matplotlib.pyplot as plt\n",
    "import seaborn as sns\n",
    "sns.set_style('whitegrid')\n",
    "plt.rcParams['figure.figsize'] = (12,9)\n",
    "\n",
    "import pandas as pd\n",
    "import numpy as np"
   ]
  },
  {
   "cell_type": "code",
   "execution_count": null,
   "metadata": {},
   "outputs": [],
   "source": [
    "book = load_book('data/raw/hp_philosophers_stone.txt')\n",
    "characters = extract_character_names(book)\n",
    "sequences = get_sentence_sequences(book)\n",
    "\n",
    "df = find_connections(sequences, characters)\n",
    "cooccurence = calculate_cooccurence(df)"
   ]
  },
  {
   "cell_type": "markdown",
   "metadata": {},
   "source": [
    "## Visualisation with NetworkX\n",
    "NetworkX is a very nice python library which is built to handle graphs and networks. We can load our data into a NetworkX `Graph` object by building up a table of character interactions as follows:"
   ]
  },
  {
   "cell_type": "code",
   "execution_count": null,
   "metadata": {},
   "outputs": [],
   "source": [
    "import networkx as nx\n",
    "interaction_df = get_interaction_df(cooccurence, threshold=2)\n",
    "interaction_df.sample(5)"
   ]
  },
  {
   "cell_type": "markdown",
   "metadata": {},
   "source": [
    "`get_interaction_df()` is defined in [bookworm/build_network.py](bookworm/build_network.py), and works by searching through the provided cooccurence matrix for interactions with strength above a specified threshold.\n",
    "\n",
    "We can load that interaction dataframe into a NetworkX Graph using the super simple `from_pandas_dataframe()` function:"
   ]
  },
  {
   "cell_type": "code",
   "execution_count": null,
   "metadata": {},
   "outputs": [],
   "source": [
    "G = nx.from_pandas_dataframe(interaction_df,\n",
    "                             source='source',\n",
    "                             target='target')"
   ]
  },
  {
   "cell_type": "markdown",
   "metadata": {},
   "source": [
    "And, just as easily, visualise it with `draw_spring()`, where spring is a reference to the idea that edges in the network are treated like physical springs, with elasticity/compressability related to the weights of the connections:"
   ]
  },
  {
   "cell_type": "code",
   "execution_count": null,
   "metadata": {},
   "outputs": [],
   "source": [
    "nx.draw_spring(G, with_labels=True)"
   ]
  },
  {
   "cell_type": "markdown",
   "metadata": {},
   "source": [
    "Very nice... ish. There's more that could be done to clean up the visualisation and make it pretty, but it's fine for now.\n",
    "\n",
    "One of the nicest things about NetworkX is all of its builtin network analysis functionality. For example, we can use `pagerank` or `hits` to give us the most 'important' or 'central' nodes in the network. These algorithms were originally developed to analyse linked networks of websites, but they can just as easily be applied to stations in transport networks, streets in cities, similar products in ecommerce systems, friends in social circles, or connected characters in books."
   ]
  },
  {
   "cell_type": "code",
   "execution_count": null,
   "metadata": {},
   "outputs": [],
   "source": [
    "pd.Series(nx.pagerank(G)).sort_values(ascending=False)[:5]"
   ]
  },
  {
   "cell_type": "code",
   "execution_count": null,
   "metadata": {},
   "outputs": [],
   "source": [
    "a, b = nx.hits(G)\n",
    "pd.Series(a).sort_values(ascending=False)[:5]"
   ]
  },
  {
   "cell_type": "markdown",
   "metadata": {},
   "source": [
    "We can ask NetworkX for cliques in the graph, which are especially relevant to social networks like this. `enumerate_all_cliques()` gives us a massive list of all the cliques it finds - we'll just return the last one because it's most illustrative of what a clique is in this context..."
   ]
  },
  {
   "cell_type": "code",
   "execution_count": null,
   "metadata": {},
   "outputs": [],
   "source": [
    "list(nx.enumerate_all_cliques(G))[-1]"
   ]
  },
  {
   "cell_type": "markdown",
   "metadata": {},
   "source": [
    "It's isolated the people who appear in the book at Number 4, Privet Drive. Fun!\n",
    "\n",
    "We can do stuff like illustrate the communicability of one character with another - We would expect that characters which don't spend much time together in the book would have a harder time communicating with one another than those who spend a lot of time together, illustrated by a smaller communicability value:"
   ]
  },
  {
   "cell_type": "code",
   "execution_count": null,
   "metadata": {},
   "outputs": [],
   "source": [
    "comms = nx.communicability(G)\n",
    "\n",
    "print(comms[\"('Vernon ',)\"][\"('Dumbledore ',)\"])\n",
    "print(comms[\"('Harry ',)\"][\"('Hermione ',)\"])"
   ]
  },
  {
   "cell_type": "markdown",
   "metadata": {},
   "source": [
    "Similarly, we can use NetworkX's implementation of classic pathfinding algoritms like _Dijkstra's algorithm_ and _A\\*_ to return paths between characters. For example, if Hedwig was interested in getting to know Nicolas Flamel, and wanted to do so with as few new introductions as possible along the way, these are the shoulders she would need to tap on for introductions:"
   ]
  },
  {
   "cell_type": "code",
   "execution_count": null,
   "metadata": {},
   "outputs": [],
   "source": [
    "nx.dijkstra_path(G, \n",
    "                 source=\"('Hedwig ',)\", \n",
    "                 target=\"('Flamel ',)\")"
   ]
  },
  {
   "cell_type": "markdown",
   "metadata": {},
   "source": [
    "Pathfinding is clearly an application that is more suited to transport networks etc, but it's still interesting to see it applied here...  \n",
    "There's an anecdote which gets passed around about a young South Korean computer scientist in academia who wanted to rise to the top of his field as quickly as possible. By developing a network of the academics in his field and their people they had published with, he was able to quickly work out which authors were most influential, and the path of introductions and cooautorship that he would need to take from his own, weak position in the network to publishing papers with the most influencial academics and becoming a central node himself. I have no idea whether the anecdote is true or not, but it's a nice story, and illustrative of where and why this stuff might be useful to think about. Applying it to owls and alchemists is fun, but it can be useful in the real world too...\n",
    "\n",
    "All of this stuff dates back to the 1730s and the origins of graph theory, with Euler and the [Seven Bridges of Konigsberg](https://en.wikipedia.org/wiki/Seven_Bridges_of_K%C3%B6nigsberg). It's a subject worth reading about if you haven't already - it's fascinating, and the world opens up to you in entirely new ways when you develop some intuition around when and where networks appear in nature and how they can be analysed. Clever applications of graph theory are absolutely key to the success of companies like Google, Facebook, and Amazon.\n",
    "\n",
    "# More dynamic visualisations with d3.js\n",
    "The thing above is fast and fun, and allows us to run a load of interesting algorithms over the network, but it all feels very static... The point of this project is to visualise these networks in an way which gives the user an intuitive sense of the relationships between characters.  \n",
    "We can get closer to that intuitive, touchy-feely sense of the network by putting together a force directed graph with d3.js, like the one by Mike Bostock (the creatory of d3) shown [here](https://bl.ocks.org/mbostock/4062045). Bostock is visualising the boring old Les Mis dataset - we're going to feed d3 our freshly made Harry Potter one.\n",
    "\n",
    "First we need to set up the data structure which the d3 script requires."
   ]
  },
  {
   "cell_type": "code",
   "execution_count": null,
   "metadata": {},
   "outputs": [],
   "source": [
    "nodes = [{\"id\": str(id), \"group\": 1} for id in set(interaction_df['source'])]\n",
    "links = interaction_df.to_dict(orient='records')\n",
    "d3_dict = {'nodes': nodes, 'links': links}"
   ]
  },
  {
   "cell_type": "markdown",
   "metadata": {},
   "source": [
    "We can write that dictionary out to a `.json` file in the project's [d3 directory](bookworm/d3/) using the json package:"
   ]
  },
  {
   "cell_type": "code",
   "execution_count": null,
   "metadata": {},
   "outputs": [],
   "source": [
    "import json\n",
    "\n",
    "with open('bookworm/d3/bookworm.json', 'w') as fp:\n",
    "    json.dump(d3_dict, fp)"
   ]
  },
  {
   "cell_type": "markdown",
   "metadata": {},
   "source": [
    "Jupyter notebooks allow us to run commands in other languages, so we'll use `bash` to do a few things from here on. For example, we can list the files in the d3 directory:"
   ]
  },
  {
   "cell_type": "code",
   "execution_count": null,
   "metadata": {},
   "outputs": [],
   "source": [
    "%%bash\n",
    "ls bookworm/d3/"
   ]
  },
  {
   "cell_type": "markdown",
   "metadata": {},
   "source": [
    "or print out one of those files:"
   ]
  },
  {
   "cell_type": "code",
   "execution_count": null,
   "metadata": {},
   "outputs": [],
   "source": [
    "%%bash\n",
    "cat bookworm/d3/index.html"
   ]
  },
  {
   "cell_type": "markdown",
   "metadata": {},
   "source": [
    "The next cell can be used to set up a locally hosted version of that d3.js script. \n",
    "\n",
    "It's a super-simple, two-line bash script which uses python's builtin `http.server` module to run the javascript visualisation code in the browser on your machine. \n",
    "\n",
    "We dumped our graph data into a file called `'bookworm.json'` in one of the cells above - that file can now processed by `'index.html'` (printed above), which displays the data using the `d3.js` javascript library."
   ]
  },
  {
   "cell_type": "code",
   "execution_count": null,
   "metadata": {},
   "outputs": [],
   "source": [
    "%%bash\n",
    "cd bookworm/d3/ \n",
    "python -m http.server"
   ]
  },
  {
   "cell_type": "markdown",
   "metadata": {},
   "source": [
    "When you've run the cell, open a new tab and go to the following address \n",
    "\n",
    "`localhost:8000`\n",
    "\n",
    "You should see a pretty graph representation of our network bouncing around. Hover over a node to see which character it corresponds to. Click and drag nodes to play around with it (This is super fun to do with your hands if you're running this on a touchscreen laptop. Playing with two hands also works!).\n",
    "\n",
    "### Note:\n",
    "When you're finished playing, remember to navigate back to the two-line `%%bash` cell above and push the **STOP** button to kill the local server. You won't be able to run any more code in this notebook until you do.\n",
    "\n",
    "In the next notebook, we'll start considering the effect of time in novels and ways of representing temporal networks  \n",
    "[< 02 - Character Building](02%20-%20Character%20Building.ipynb) | [Home](https://github.com/harrisonpim/bookworm) | [04 - Time and Chronology >](04%20-%20Time%20and%20Chronology.ipynb)  "
   ]
  },
  {
   "cell_type": "code",
   "execution_count": null,
   "metadata": {},
   "outputs": [],
   "source": []
  }
 ],
 "metadata": {
  "kernelspec": {
   "display_name": "Python [conda root]",
   "language": "python",
   "name": "conda-root-py"
  },
  "language_info": {
   "codemirror_mode": {
    "name": "ipython",
    "version": 3
   },
   "file_extension": ".py",
   "mimetype": "text/x-python",
   "name": "python",
   "nbconvert_exporter": "python",
   "pygments_lexer": "ipython3",
   "version": "3.5.3"
  }
 },
 "nbformat": 4,
 "nbformat_minor": 2
}
